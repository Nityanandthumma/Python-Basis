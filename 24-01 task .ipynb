{
 "cells": [
  {
   "cell_type": "code",
   "execution_count": 1,
   "id": "f3f2b577-3ab5-4401-ba7b-0028799cc9bf",
   "metadata": {},
   "outputs": [
    {
     "data": {
      "text/plain": [
       "10"
      ]
     },
     "execution_count": 1,
     "metadata": {},
     "output_type": "execute_result"
    }
   ],
   "source": [
    "a = 10\n",
    "b = 20\n",
    "a\n",
    "a"
   ]
  },
  {
   "cell_type": "code",
   "execution_count": 3,
   "id": "1b91cc10-9228-4cc0-a8ec-4b495f4923ac",
   "metadata": {},
   "outputs": [
    {
     "name": "stdout",
     "output_type": "stream",
     "text": [
      "10\n",
      "20\n"
     ]
    }
   ],
   "source": [
    "a = 10\n",
    "b = 20\n",
    "print(a)\n",
    "print(b)"
   ]
  },
  {
   "cell_type": "code",
   "execution_count": 5,
   "id": "5deb9e3f-e7a0-48b2-bbb1-ce1d4aaaa08c",
   "metadata": {},
   "outputs": [
    {
     "name": "stdout",
     "output_type": "stream",
     "text": [
      "10\n",
      "10 20\n",
      "python\n",
      "10 20 python\n"
     ]
    }
   ],
   "source": [
    "print(10)\n",
    "print(10,20)\n",
    "print('python')\n",
    "print(10,20,'python')"
   ]
  },
  {
   "cell_type": "code",
   "execution_count": 7,
   "id": "075e0a83-63e3-4258-8eae-206b01d82f44",
   "metadata": {},
   "outputs": [
    {
     "name": "stdout",
     "output_type": "stream",
     "text": [
      "50\n"
     ]
    }
   ],
   "source": [
    "num1 = 20\n",
    "num2 = 30\n",
    "add = num1+num2\n",
    "print(add)"
   ]
  },
  {
   "cell_type": "markdown",
   "id": "6022b52f-fe8f-4189-a25e-d51b52ea2a78",
   "metadata": {},
   "source": [
    "# print result with string"
   ]
  },
  {
   "cell_type": "code",
   "execution_count": 11,
   "id": "4cae4859-bf91-4dfd-b3ae-546cf71b9c4d",
   "metadata": {},
   "outputs": [
    {
     "name": "stdout",
     "output_type": "stream",
     "text": [
      "the addition of 20 and 30 is= 50\n"
     ]
    }
   ],
   "source": [
    "num1 = 20 \n",
    "num2 = 30\n",
    "add = num1+num2\n",
    "print('the addition of', num1, 'and', num2, 'is=', add)"
   ]
  },
  {
   "cell_type": "code",
   "execution_count": 27,
   "id": "a6a43144-f686-47f5-9221-f5a9b901975d",
   "metadata": {},
   "outputs": [
    {
     "name": "stdout",
     "output_type": "stream",
     "text": [
      " hello my name is rahul and my age is 20 and i am from hyderabad\n"
     ]
    }
   ],
   "source": [
    "name = 'rahul'\n",
    "age = 20\n",
    "city = 'hyderabad'\n",
    "print(' hello my name is', name, 'and my age is', age, 'and i am from', city)"
   ]
  },
  {
   "cell_type": "code",
   "execution_count": 25,
   "id": "f79c1cd8-2981-4e09-b1d4-d73092f4032b",
   "metadata": {},
   "outputs": [
    {
     "name": "stdout",
     "output_type": "stream",
     "text": [
      "the addition if 20 and 30 is 50\n"
     ]
    }
   ],
   "source": [
    "num1 = 20\n",
    "num2 = 30\n",
    "add = num1+num2\n",
    "print('the addition if {} and {} is {}' .format(num1,num2,add))"
   ]
  },
  {
   "cell_type": "code",
   "execution_count": 31,
   "id": "9a21ccc6-46fe-47d1-bc9f-3dc851ca86e7",
   "metadata": {},
   "outputs": [
    {
     "name": "stdout",
     "output_type": "stream",
     "text": [
      "the average of 100, 25, and 333 is 152.66666666666666 or 152.67\n"
     ]
    }
   ],
   "source": [
    "num1=100 \n",
    "num2=25 \n",
    "num3=333 \n",
    "avg=(num1+num2+num3)/3  \n",
    "avg1=round((num1+num2+num3)/3,2)\n",
    "print('the average of {}, {}, and {} is {} or {}' .format(num1,num2,num3,avg,avg1))"
   ]
  },
  {
   "cell_type": "markdown",
   "id": "49da2461-bdbe-4645-96bd-a83952bcda18",
   "metadata": {},
   "source": [
    "# at starting simpaly add f"
   ]
  },
  {
   "cell_type": "code",
   "execution_count": 33,
   "id": "7e5f3562-8d4e-492e-b54f-671c4f136840",
   "metadata": {},
   "outputs": [
    {
     "name": "stdout",
     "output_type": "stream",
     "text": [
      "the addtion of 30 and 30 is= 30\n"
     ]
    }
   ],
   "source": [
    "num1 = 20\n",
    "num2 = 30\n",
    "add = num1=num2\n",
    "print(f'the addtion of {num1} and {num2} is= {add}' )"
   ]
  },
  {
   "cell_type": "markdown",
   "id": "e19e4fc2-bd70-4b9d-9067-57a506f0cdd1",
   "metadata": {},
   "source": [
    "# End statement\n"
   ]
  },
  {
   "cell_type": "markdown",
   "id": "ed0f1e54-d73e-4eae-a859-630beebfc221",
   "metadata": {},
   "source": [
    "# without end statement=\n"
   ]
  },
  {
   "cell_type": "code",
   "execution_count": 37,
   "id": "6203d709-5835-4362-a92a-9076ef6b2c6c",
   "metadata": {},
   "outputs": [
    {
     "name": "stdout",
     "output_type": "stream",
     "text": [
      "hello\n",
      "good morning\n"
     ]
    }
   ],
   "source": [
    "print('hello')\n",
    "print('good morning')"
   ]
  },
  {
   "cell_type": "markdown",
   "id": "b3ffa184-b264-4420-83d6-d1ee9d37671b",
   "metadata": {},
   "source": [
    "# with end statement="
   ]
  },
  {
   "cell_type": "code",
   "execution_count": 41,
   "id": "b48baa11-d929-45b4-95c3-5bbabb607ee6",
   "metadata": {},
   "outputs": [
    {
     "name": "stdout",
     "output_type": "stream",
     "text": [
      "hello good morning\n"
     ]
    }
   ],
   "source": [
    "print('hello', end=' ')\n",
    "print('good morning')"
   ]
  },
  {
   "cell_type": "markdown",
   "id": "9fac4afd-413f-419f-8dba-9a08fcaef44c",
   "metadata": {},
   "source": [
    "# seprater"
   ]
  },
  {
   "cell_type": "code",
   "execution_count": 47,
   "id": "00ee2ded-15b1-42d6-aea6-4edbeb8dac1c",
   "metadata": {},
   "outputs": [
    {
     "name": "stdout",
     "output_type": "stream",
     "text": [
      "hai--->hello--->how are you\n"
     ]
    }
   ],
   "source": [
    "print('hai', 'hello', 'how are you',sep='--->')"
   ]
  },
  {
   "cell_type": "code",
   "execution_count": 49,
   "id": "d1970fb1-e55a-4971-b469-4266832776f3",
   "metadata": {},
   "outputs": [
    {
     "name": "stdout",
     "output_type": "stream",
     "text": [
      "Hai$hello$How are you\n"
     ]
    }
   ],
   "source": [
    "print('Hai', 'hello', 'How are you', sep='$')"
   ]
  },
  {
   "cell_type": "code",
   "execution_count": 51,
   "id": "7c3627e0-d19c-49a3-ab7a-ade2d982ae6b",
   "metadata": {},
   "outputs": [
    {
     "name": "stdout",
     "output_type": "stream",
     "text": [
      "hai hello, how are you\n"
     ]
    }
   ],
   "source": [
    "print('hai', 'hello,', 'how are you', sep=' ')"
   ]
  },
  {
   "cell_type": "markdown",
   "id": "ee6afda3-c0de-4152-ad72-772f80eadc77",
   "metadata": {},
   "source": [
    "# python identifer and data types"
   ]
  },
  {
   "cell_type": "markdown",
   "id": "c45fc61d-4ba6-4685-88ca-53e62033017d",
   "metadata": {},
   "source": [
    "# -- identifers"
   ]
  },
  {
   "cell_type": "code",
   "execution_count": 69,
   "id": "47ce66b1-473d-4f5f-a1f7-d3ce820df492",
   "metadata": {
    "scrolled": true
   },
   "outputs": [
    {
     "data": {
      "text/plain": [
       "['False',\n",
       " 'None',\n",
       " 'True',\n",
       " 'and',\n",
       " 'as',\n",
       " 'assert',\n",
       " 'async',\n",
       " 'await',\n",
       " 'break',\n",
       " 'class',\n",
       " 'continue',\n",
       " 'def',\n",
       " 'del',\n",
       " 'elif',\n",
       " 'else',\n",
       " 'except',\n",
       " 'finally',\n",
       " 'for',\n",
       " 'from',\n",
       " 'global',\n",
       " 'if',\n",
       " 'import',\n",
       " 'in',\n",
       " 'is',\n",
       " 'lambda',\n",
       " 'nonlocal',\n",
       " 'not',\n",
       " 'or',\n",
       " 'pass',\n",
       " 'raise',\n",
       " 'return',\n",
       " 'try',\n",
       " 'while',\n",
       " 'with',\n",
       " 'yield']"
      ]
     },
     "execution_count": 69,
     "metadata": {},
     "output_type": "execute_result"
    }
   ],
   "source": [
    "import keyword\n",
    "keyword.kwlist"
   ]
  },
  {
   "cell_type": "code",
   "execution_count": 71,
   "id": "398dbda5-e394-4ab3-a833-760d572253c8",
   "metadata": {},
   "outputs": [
    {
     "name": "stdout",
     "output_type": "stream",
     "text": [
      "35\n"
     ]
    }
   ],
   "source": [
    "print(len(keyword.kwlist))"
   ]
  },
  {
   "cell_type": "code",
   "execution_count": 73,
   "id": "e66ede0a-ab2f-4a8e-9392-fbb199bb3731",
   "metadata": {},
   "outputs": [
    {
     "ename": "SyntaxError",
     "evalue": "invalid decimal literal (2311339134.py, line 1)",
     "output_type": "error",
     "traceback": [
      "\u001b[1;36m  Cell \u001b[1;32mIn[73], line 1\u001b[1;36m\u001b[0m\n\u001b[1;33m    1var = 20\u001b[0m\n\u001b[1;37m    ^\u001b[0m\n\u001b[1;31mSyntaxError\u001b[0m\u001b[1;31m:\u001b[0m invalid decimal literal\n"
     ]
    }
   ],
   "source": [
    "1var = 20"
   ]
  },
  {
   "cell_type": "code",
   "execution_count": 81,
   "id": "047230f1-213e-4174-8e0d-f3954ced345f",
   "metadata": {},
   "outputs": [
    {
     "data": {
      "text/plain": [
       "20"
      ]
     },
     "execution_count": 81,
     "metadata": {},
     "output_type": "execute_result"
    }
   ],
   "source": [
    "var1 = 20\n",
    "var1"
   ]
  },
  {
   "cell_type": "code",
   "execution_count": 83,
   "id": "21d43ef8-22e6-489c-9e13-0b63f2bd5104",
   "metadata": {},
   "outputs": [
    {
     "ename": "SyntaxError",
     "evalue": "invalid syntax (2747719606.py, line 1)",
     "output_type": "error",
     "traceback": [
      "\u001b[1;36m  Cell \u001b[1;32mIn[83], line 1\u001b[1;36m\u001b[0m\n\u001b[1;33m    var@ = 20\u001b[0m\n\u001b[1;37m         ^\u001b[0m\n\u001b[1;31mSyntaxError\u001b[0m\u001b[1;31m:\u001b[0m invalid syntax\n"
     ]
    }
   ],
   "source": [
    "var@ = 20\n",
    "var@\n"
   ]
  },
  {
   "cell_type": "code",
   "execution_count": 85,
   "id": "e3b9e2cd-5f57-4ce2-bf58-c791f0b8ad2a",
   "metadata": {},
   "outputs": [
    {
     "ename": "SyntaxError",
     "evalue": "invalid syntax (2756309568.py, line 1)",
     "output_type": "error",
     "traceback": [
      "\u001b[1;36m  Cell \u001b[1;32mIn[85], line 1\u001b[1;36m\u001b[0m\n\u001b[1;33m    import = 125\u001b[0m\n\u001b[1;37m           ^\u001b[0m\n\u001b[1;31mSyntaxError\u001b[0m\u001b[1;31m:\u001b[0m invalid syntax\n"
     ]
    }
   ],
   "source": [
    "import = 125\n",
    "import ="
   ]
  },
  {
   "cell_type": "markdown",
   "id": "9b7d45d1-9271-4a97-bde0-70a03986dddf",
   "metadata": {},
   "source": [
    "# --comments on python "
   ]
  },
  {
   "cell_type": "code",
   "execution_count": 88,
   "id": "b1e4f266-ecb5-49b0-b6be-071b8d18814a",
   "metadata": {},
   "outputs": [],
   "source": [
    "#single line comment"
   ]
  },
  {
   "cell_type": "code",
   "execution_count": 96,
   "id": "0ad2ed70-ffab-48b3-b8ca-6f0effe9826f",
   "metadata": {},
   "outputs": [
    {
     "data": {
      "text/plain": [
       "10"
      ]
     },
     "execution_count": 96,
     "metadata": {},
     "output_type": "execute_result"
    }
   ],
   "source": [
    " val = 10 #'''multiple line comment'''\n",
    "val"
   ]
  },
  {
   "cell_type": "code",
   "execution_count": 98,
   "id": "49b656f1-f871-4f66-85ef-a0462625e1e9",
   "metadata": {},
   "outputs": [
    {
     "data": {
      "text/plain": [
       "10"
      ]
     },
     "execution_count": 98,
     "metadata": {},
     "output_type": "execute_result"
    }
   ],
   "source": [
    " val = 10 #\"\"\"multiple line comment\"\"\"\n",
    "val"
   ]
  },
  {
   "cell_type": "markdown",
   "id": "91d79320-ba6f-4298-a7df-8fe502b5b942",
   "metadata": {},
   "source": [
    "# --data types"
   ]
  },
  {
   "cell_type": "markdown",
   "id": "e11478b1-6fa7-4b3c-ab64-8aabf72c98d9",
   "metadata": {},
   "source": [
    "# int ( numeric)"
   ]
  },
  {
   "cell_type": "code",
   "execution_count": 103,
   "id": "b2112437-0133-454d-945d-525dec8ee929",
   "metadata": {},
   "outputs": [
    {
     "name": "stdout",
     "output_type": "stream",
     "text": [
      "1\n",
      "<class 'int'>\n",
      "1 is integer? True\n"
     ]
    }
   ],
   "source": [
    "num = 1\n",
    "print(num)\n",
    "print(type(num))\n",
    "print(num, 'is integer?', isinstance(num, int))\n"
   ]
  },
  {
   "cell_type": "markdown",
   "id": "4233c589-245d-4259-b6e0-37a35acdbccc",
   "metadata": {},
   "source": [
    "# float"
   ]
  },
  {
   "cell_type": "code",
   "execution_count": 109,
   "id": "9713db6a-06f8-486b-833b-383442a8d303",
   "metadata": {},
   "outputs": [
    {
     "name": "stdout",
     "output_type": "stream",
     "text": [
      "25.5\n",
      "<class 'float'>\n",
      "25.5 is integer? False\n"
     ]
    }
   ],
   "source": [
    "num1 = 25.5\n",
    "print(num1)\n",
    "print(type(num1))\n",
    "print(num1, 'is integer?', isinstance(num1, int))"
   ]
  },
  {
   "cell_type": "markdown",
   "id": "6a3c1914-2472-443b-bf10-e41010981a95",
   "metadata": {},
   "source": [
    "# boolean"
   ]
  },
  {
   "cell_type": "code",
   "execution_count": 126,
   "id": "1bf26eee-72f1-460c-b8c4-c160d3b3aea9",
   "metadata": {},
   "outputs": [
    {
     "name": "stdout",
     "output_type": "stream",
     "text": [
      "<class 'bool'>\n",
      "<class 'bool'>\n"
     ]
    }
   ],
   "source": [
    "bool1 = True\n",
    "bool2 = False\n",
    "print(type(bool1))\n",
    "print(type(bool2))"
   ]
  },
  {
   "cell_type": "code",
   "execution_count": 128,
   "id": "7f456e98-25ce-44e0-b31f-80301d1d0cf2",
   "metadata": {},
   "outputs": [
    {
     "data": {
      "text/plain": [
       "True"
      ]
     },
     "execution_count": 128,
     "metadata": {},
     "output_type": "execute_result"
    }
   ],
   "source": [
    "isinstance(bool1, bool)"
   ]
  },
  {
   "cell_type": "code",
   "execution_count": 130,
   "id": "dbef64d8-12af-42b9-a694-cb9357d9056c",
   "metadata": {},
   "outputs": [
    {
     "data": {
      "text/plain": [
       "True"
      ]
     },
     "execution_count": 130,
     "metadata": {},
     "output_type": "execute_result"
    }
   ],
   "source": [
    "isinstance(bool2, bool)"
   ]
  },
  {
   "cell_type": "code",
   "execution_count": 136,
   "id": "d5cf0abf-6524-428b-9df7-0782e30a8271",
   "metadata": {},
   "outputs": [
    {
     "data": {
      "text/plain": [
       "False"
      ]
     },
     "execution_count": 136,
     "metadata": {},
     "output_type": "execute_result"
    }
   ],
   "source": [
    "bool(0)"
   ]
  },
  {
   "cell_type": "code",
   "execution_count": 138,
   "id": "63943012-f075-4215-9368-8ac6f032c7d6",
   "metadata": {},
   "outputs": [
    {
     "data": {
      "text/plain": [
       "True"
      ]
     },
     "execution_count": 138,
     "metadata": {},
     "output_type": "execute_result"
    }
   ],
   "source": [
    "bool(1)"
   ]
  },
  {
   "cell_type": "code",
   "execution_count": 140,
   "id": "a4bc59d7-984a-47a0-88be-23f297d15867",
   "metadata": {},
   "outputs": [
    {
     "data": {
      "text/plain": [
       "False"
      ]
     },
     "execution_count": 140,
     "metadata": {},
     "output_type": "execute_result"
    }
   ],
   "source": [
    "bool(None)"
   ]
  },
  {
   "cell_type": "code",
   "execution_count": 142,
   "id": "0ef0c62f-e7f0-48f9-b624-2ffdcbec63eb",
   "metadata": {},
   "outputs": [
    {
     "data": {
      "text/plain": [
       "False"
      ]
     },
     "execution_count": 142,
     "metadata": {},
     "output_type": "execute_result"
    }
   ],
   "source": [
    "bool(False)"
   ]
  },
  {
   "cell_type": "markdown",
   "id": "072b9720-6531-4f8e-a027-a03199e6bb34",
   "metadata": {},
   "source": [
    "# String\n"
   ]
  },
  {
   "cell_type": "code",
   "execution_count": 154,
   "id": "77eb981b-fa05-4646-8539-20d61382d5b4",
   "metadata": {},
   "outputs": [
    {
     "name": "stdout",
     "output_type": "stream",
     "text": [
      "hello how are you\n"
     ]
    }
   ],
   "source": [
    "str1 = \"hello \" \n",
    "str2 = 'how are you'\n",
    "print(str1+str2)"
   ]
  },
  {
   "cell_type": "code",
   "execution_count": 158,
   "id": "2331096e-9b38-46c5-97ff-59d43a37bef2",
   "metadata": {},
   "outputs": [
    {
     "name": "stdout",
     "output_type": "stream",
     "text": [
      "hellow\n",
      "             world\n"
     ]
    }
   ],
   "source": [
    "str1 = '''hellow\n",
    "             world'''\n",
    "print(str1)"
   ]
  },
  {
   "cell_type": "code",
   "execution_count": 164,
   "id": "e1cac563-2fd7-4f42-9302-f281e62db2d0",
   "metadata": {},
   "outputs": [
    {
     "name": "stdout",
     "output_type": "stream",
     "text": [
      "hellow \n",
      "how are you\n"
     ]
    }
   ],
   "source": [
    "str = '''hellow \n",
    "how are you'''\n",
    "print(str)"
   ]
  },
  {
   "cell_type": "code",
   "execution_count": 172,
   "id": "79e68732-819f-45ac-aabd-59ace5ac083b",
   "metadata": {},
   "outputs": [
    {
     "name": "stdout",
     "output_type": "stream",
     "text": [
      "hello how are you hai\n"
     ]
    }
   ],
   "source": [
    "str3 = ('''hello '''\n",
    "        '''how are you '''\n",
    "        '''hai''')\n",
    "print(str3)        \n"
   ]
  },
  {
   "cell_type": "code",
   "execution_count": 204,
   "id": "330982f9-1b83-485c-8008-cc07fb462a64",
   "metadata": {},
   "outputs": [
    {
     "name": "stdout",
     "output_type": "stream",
     "text": [
      "ohhohhohhohhohh\n"
     ]
    }
   ],
   "source": [
    "str1 = 'ohh'\n",
    "str1 = str1*5\n",
    "print(str1)\n"
   ]
  },
  {
   "cell_type": "code",
   "execution_count": 206,
   "id": "1bd9fc45-8446-45d0-841c-ac02303528c8",
   "metadata": {},
   "outputs": [
    {
     "name": "stdout",
     "output_type": "stream",
     "text": [
      "15\n"
     ]
    }
   ],
   "source": [
    "print(len(str1))"
   ]
  },
  {
   "cell_type": "code",
   "execution_count": 190,
   "id": "bc46d858-72cd-4119-ba58-f5228ab0f432",
   "metadata": {},
   "outputs": [
    {
     "name": "stdout",
     "output_type": "stream",
     "text": [
      "625\n"
     ]
    }
   ],
   "source": [
    "str = 25\n",
    "str3 = str**2\n",
    "print(str3)"
   ]
  },
  {
   "cell_type": "code",
   "execution_count": 208,
   "id": "42eb0ee9-29fe-4bbc-a87b-122541686465",
   "metadata": {},
   "outputs": [
    {
     "name": "stdout",
     "output_type": "stream",
     "text": [
      "15\n"
     ]
    }
   ],
   "source": [
    "print(len(str1))"
   ]
  },
  {
   "cell_type": "code",
   "execution_count": null,
   "id": "2cd46cc5-3513-4071-8b58-ee739cdfaa1d",
   "metadata": {},
   "outputs": [],
   "source": []
  }
 ],
 "metadata": {
  "kernelspec": {
   "display_name": "Python [conda env:base] *",
   "language": "python",
   "name": "conda-base-py"
  },
  "language_info": {
   "codemirror_mode": {
    "name": "ipython",
    "version": 3
   },
   "file_extension": ".py",
   "mimetype": "text/x-python",
   "name": "python",
   "nbconvert_exporter": "python",
   "pygments_lexer": "ipython3",
   "version": "3.12.7"
  }
 },
 "nbformat": 4,
 "nbformat_minor": 5
}
